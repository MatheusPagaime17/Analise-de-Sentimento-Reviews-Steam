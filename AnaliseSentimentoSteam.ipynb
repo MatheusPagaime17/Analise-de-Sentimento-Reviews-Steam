{
  "nbformat": 4,
  "nbformat_minor": 0,
  "metadata": {
    "colab": {
      "provenance": [],
      "gpuType": "T4",
      "mount_file_id": "1mybyaBzy9AH6bU0M5JSU0_d5W3JygNTJ",
      "authorship_tag": "ABX9TyORDfsGanIZCCO7LiPXBtDT",
      "include_colab_link": true
    },
    "kernelspec": {
      "name": "python3",
      "display_name": "Python 3"
    },
    "language_info": {
      "name": "python"
    },
    "accelerator": "GPU",
    "widgets": {
      "application/vnd.jupyter.widget-state+json": {
        "5b3ad51b4885479ebae2f378be7adc59": {
          "model_module": "@jupyter-widgets/controls",
          "model_name": "HBoxModel",
          "model_module_version": "1.5.0",
          "state": {
            "_dom_classes": [],
            "_model_module": "@jupyter-widgets/controls",
            "_model_module_version": "1.5.0",
            "_model_name": "HBoxModel",
            "_view_count": null,
            "_view_module": "@jupyter-widgets/controls",
            "_view_module_version": "1.5.0",
            "_view_name": "HBoxView",
            "box_style": "",
            "children": [
              "IPY_MODEL_eeb8ada3dd984effa747dc78b1bb7040",
              "IPY_MODEL_a039b3110c0f46db95996e1dc30c0b7d",
              "IPY_MODEL_9726b007b7d34eabbb0b776a4c13d841"
            ],
            "layout": "IPY_MODEL_73b47fab908f4d249d5d9215c00a9663"
          }
        },
        "eeb8ada3dd984effa747dc78b1bb7040": {
          "model_module": "@jupyter-widgets/controls",
          "model_name": "HTMLModel",
          "model_module_version": "1.5.0",
          "state": {
            "_dom_classes": [],
            "_model_module": "@jupyter-widgets/controls",
            "_model_module_version": "1.5.0",
            "_model_name": "HTMLModel",
            "_view_count": null,
            "_view_module": "@jupyter-widgets/controls",
            "_view_module_version": "1.5.0",
            "_view_name": "HTMLView",
            "description": "",
            "description_tooltip": null,
            "layout": "IPY_MODEL_6c2660d42c0d41b39c50a03aae7fa798",
            "placeholder": "​",
            "style": "IPY_MODEL_47e67141e71f46498e2202c9dace5053",
            "value": "tokenizer_config.json: 100%"
          }
        },
        "a039b3110c0f46db95996e1dc30c0b7d": {
          "model_module": "@jupyter-widgets/controls",
          "model_name": "FloatProgressModel",
          "model_module_version": "1.5.0",
          "state": {
            "_dom_classes": [],
            "_model_module": "@jupyter-widgets/controls",
            "_model_module_version": "1.5.0",
            "_model_name": "FloatProgressModel",
            "_view_count": null,
            "_view_module": "@jupyter-widgets/controls",
            "_view_module_version": "1.5.0",
            "_view_name": "ProgressView",
            "bar_style": "success",
            "description": "",
            "description_tooltip": null,
            "layout": "IPY_MODEL_b7a579c806074a088798303f37999174",
            "max": 48,
            "min": 0,
            "orientation": "horizontal",
            "style": "IPY_MODEL_0513c64442ca4d9cabec45775917d586",
            "value": 48
          }
        },
        "9726b007b7d34eabbb0b776a4c13d841": {
          "model_module": "@jupyter-widgets/controls",
          "model_name": "HTMLModel",
          "model_module_version": "1.5.0",
          "state": {
            "_dom_classes": [],
            "_model_module": "@jupyter-widgets/controls",
            "_model_module_version": "1.5.0",
            "_model_name": "HTMLModel",
            "_view_count": null,
            "_view_module": "@jupyter-widgets/controls",
            "_view_module_version": "1.5.0",
            "_view_name": "HTMLView",
            "description": "",
            "description_tooltip": null,
            "layout": "IPY_MODEL_619fd452a4714832985816ebc4a4d6ed",
            "placeholder": "​",
            "style": "IPY_MODEL_1eb3a9a1044f455abcdf3dd1fed4b6e3",
            "value": " 48.0/48.0 [00:00&lt;00:00, 1.89kB/s]"
          }
        },
        "73b47fab908f4d249d5d9215c00a9663": {
          "model_module": "@jupyter-widgets/base",
          "model_name": "LayoutModel",
          "model_module_version": "1.2.0",
          "state": {
            "_model_module": "@jupyter-widgets/base",
            "_model_module_version": "1.2.0",
            "_model_name": "LayoutModel",
            "_view_count": null,
            "_view_module": "@jupyter-widgets/base",
            "_view_module_version": "1.2.0",
            "_view_name": "LayoutView",
            "align_content": null,
            "align_items": null,
            "align_self": null,
            "border": null,
            "bottom": null,
            "display": null,
            "flex": null,
            "flex_flow": null,
            "grid_area": null,
            "grid_auto_columns": null,
            "grid_auto_flow": null,
            "grid_auto_rows": null,
            "grid_column": null,
            "grid_gap": null,
            "grid_row": null,
            "grid_template_areas": null,
            "grid_template_columns": null,
            "grid_template_rows": null,
            "height": null,
            "justify_content": null,
            "justify_items": null,
            "left": null,
            "margin": null,
            "max_height": null,
            "max_width": null,
            "min_height": null,
            "min_width": null,
            "object_fit": null,
            "object_position": null,
            "order": null,
            "overflow": null,
            "overflow_x": null,
            "overflow_y": null,
            "padding": null,
            "right": null,
            "top": null,
            "visibility": null,
            "width": null
          }
        },
        "6c2660d42c0d41b39c50a03aae7fa798": {
          "model_module": "@jupyter-widgets/base",
          "model_name": "LayoutModel",
          "model_module_version": "1.2.0",
          "state": {
            "_model_module": "@jupyter-widgets/base",
            "_model_module_version": "1.2.0",
            "_model_name": "LayoutModel",
            "_view_count": null,
            "_view_module": "@jupyter-widgets/base",
            "_view_module_version": "1.2.0",
            "_view_name": "LayoutView",
            "align_content": null,
            "align_items": null,
            "align_self": null,
            "border": null,
            "bottom": null,
            "display": null,
            "flex": null,
            "flex_flow": null,
            "grid_area": null,
            "grid_auto_columns": null,
            "grid_auto_flow": null,
            "grid_auto_rows": null,
            "grid_column": null,
            "grid_gap": null,
            "grid_row": null,
            "grid_template_areas": null,
            "grid_template_columns": null,
            "grid_template_rows": null,
            "height": null,
            "justify_content": null,
            "justify_items": null,
            "left": null,
            "margin": null,
            "max_height": null,
            "max_width": null,
            "min_height": null,
            "min_width": null,
            "object_fit": null,
            "object_position": null,
            "order": null,
            "overflow": null,
            "overflow_x": null,
            "overflow_y": null,
            "padding": null,
            "right": null,
            "top": null,
            "visibility": null,
            "width": null
          }
        },
        "47e67141e71f46498e2202c9dace5053": {
          "model_module": "@jupyter-widgets/controls",
          "model_name": "DescriptionStyleModel",
          "model_module_version": "1.5.0",
          "state": {
            "_model_module": "@jupyter-widgets/controls",
            "_model_module_version": "1.5.0",
            "_model_name": "DescriptionStyleModel",
            "_view_count": null,
            "_view_module": "@jupyter-widgets/base",
            "_view_module_version": "1.2.0",
            "_view_name": "StyleView",
            "description_width": ""
          }
        },
        "b7a579c806074a088798303f37999174": {
          "model_module": "@jupyter-widgets/base",
          "model_name": "LayoutModel",
          "model_module_version": "1.2.0",
          "state": {
            "_model_module": "@jupyter-widgets/base",
            "_model_module_version": "1.2.0",
            "_model_name": "LayoutModel",
            "_view_count": null,
            "_view_module": "@jupyter-widgets/base",
            "_view_module_version": "1.2.0",
            "_view_name": "LayoutView",
            "align_content": null,
            "align_items": null,
            "align_self": null,
            "border": null,
            "bottom": null,
            "display": null,
            "flex": null,
            "flex_flow": null,
            "grid_area": null,
            "grid_auto_columns": null,
            "grid_auto_flow": null,
            "grid_auto_rows": null,
            "grid_column": null,
            "grid_gap": null,
            "grid_row": null,
            "grid_template_areas": null,
            "grid_template_columns": null,
            "grid_template_rows": null,
            "height": null,
            "justify_content": null,
            "justify_items": null,
            "left": null,
            "margin": null,
            "max_height": null,
            "max_width": null,
            "min_height": null,
            "min_width": null,
            "object_fit": null,
            "object_position": null,
            "order": null,
            "overflow": null,
            "overflow_x": null,
            "overflow_y": null,
            "padding": null,
            "right": null,
            "top": null,
            "visibility": null,
            "width": null
          }
        },
        "0513c64442ca4d9cabec45775917d586": {
          "model_module": "@jupyter-widgets/controls",
          "model_name": "ProgressStyleModel",
          "model_module_version": "1.5.0",
          "state": {
            "_model_module": "@jupyter-widgets/controls",
            "_model_module_version": "1.5.0",
            "_model_name": "ProgressStyleModel",
            "_view_count": null,
            "_view_module": "@jupyter-widgets/base",
            "_view_module_version": "1.2.0",
            "_view_name": "StyleView",
            "bar_color": null,
            "description_width": ""
          }
        },
        "619fd452a4714832985816ebc4a4d6ed": {
          "model_module": "@jupyter-widgets/base",
          "model_name": "LayoutModel",
          "model_module_version": "1.2.0",
          "state": {
            "_model_module": "@jupyter-widgets/base",
            "_model_module_version": "1.2.0",
            "_model_name": "LayoutModel",
            "_view_count": null,
            "_view_module": "@jupyter-widgets/base",
            "_view_module_version": "1.2.0",
            "_view_name": "LayoutView",
            "align_content": null,
            "align_items": null,
            "align_self": null,
            "border": null,
            "bottom": null,
            "display": null,
            "flex": null,
            "flex_flow": null,
            "grid_area": null,
            "grid_auto_columns": null,
            "grid_auto_flow": null,
            "grid_auto_rows": null,
            "grid_column": null,
            "grid_gap": null,
            "grid_row": null,
            "grid_template_areas": null,
            "grid_template_columns": null,
            "grid_template_rows": null,
            "height": null,
            "justify_content": null,
            "justify_items": null,
            "left": null,
            "margin": null,
            "max_height": null,
            "max_width": null,
            "min_height": null,
            "min_width": null,
            "object_fit": null,
            "object_position": null,
            "order": null,
            "overflow": null,
            "overflow_x": null,
            "overflow_y": null,
            "padding": null,
            "right": null,
            "top": null,
            "visibility": null,
            "width": null
          }
        },
        "1eb3a9a1044f455abcdf3dd1fed4b6e3": {
          "model_module": "@jupyter-widgets/controls",
          "model_name": "DescriptionStyleModel",
          "model_module_version": "1.5.0",
          "state": {
            "_model_module": "@jupyter-widgets/controls",
            "_model_module_version": "1.5.0",
            "_model_name": "DescriptionStyleModel",
            "_view_count": null,
            "_view_module": "@jupyter-widgets/base",
            "_view_module_version": "1.2.0",
            "_view_name": "StyleView",
            "description_width": ""
          }
        },
        "57e458278fa049f1aebd10f509b32687": {
          "model_module": "@jupyter-widgets/controls",
          "model_name": "HBoxModel",
          "model_module_version": "1.5.0",
          "state": {
            "_dom_classes": [],
            "_model_module": "@jupyter-widgets/controls",
            "_model_module_version": "1.5.0",
            "_model_name": "HBoxModel",
            "_view_count": null,
            "_view_module": "@jupyter-widgets/controls",
            "_view_module_version": "1.5.0",
            "_view_name": "HBoxView",
            "box_style": "",
            "children": [
              "IPY_MODEL_d0f2888082c942919bc9b99548558232",
              "IPY_MODEL_b8e9ee3ffdeb47d8acb32423588f58fc",
              "IPY_MODEL_6542b913f75149718de35da82657574f"
            ],
            "layout": "IPY_MODEL_407bf8450bff42b99bb87f6a2d61b351"
          }
        },
        "d0f2888082c942919bc9b99548558232": {
          "model_module": "@jupyter-widgets/controls",
          "model_name": "HTMLModel",
          "model_module_version": "1.5.0",
          "state": {
            "_dom_classes": [],
            "_model_module": "@jupyter-widgets/controls",
            "_model_module_version": "1.5.0",
            "_model_name": "HTMLModel",
            "_view_count": null,
            "_view_module": "@jupyter-widgets/controls",
            "_view_module_version": "1.5.0",
            "_view_name": "HTMLView",
            "description": "",
            "description_tooltip": null,
            "layout": "IPY_MODEL_28ce09e0298a4bac89fbe8dad48ad1a5",
            "placeholder": "​",
            "style": "IPY_MODEL_cdde6109b1f24c2898de0da82c93f0f9",
            "value": "vocab.txt: 100%"
          }
        },
        "b8e9ee3ffdeb47d8acb32423588f58fc": {
          "model_module": "@jupyter-widgets/controls",
          "model_name": "FloatProgressModel",
          "model_module_version": "1.5.0",
          "state": {
            "_dom_classes": [],
            "_model_module": "@jupyter-widgets/controls",
            "_model_module_version": "1.5.0",
            "_model_name": "FloatProgressModel",
            "_view_count": null,
            "_view_module": "@jupyter-widgets/controls",
            "_view_module_version": "1.5.0",
            "_view_name": "ProgressView",
            "bar_style": "success",
            "description": "",
            "description_tooltip": null,
            "layout": "IPY_MODEL_be14dab0e69548e2bde17ba49f6856a5",
            "max": 231508,
            "min": 0,
            "orientation": "horizontal",
            "style": "IPY_MODEL_674f5c1abee94e82952b797a8f64a6cd",
            "value": 231508
          }
        },
        "6542b913f75149718de35da82657574f": {
          "model_module": "@jupyter-widgets/controls",
          "model_name": "HTMLModel",
          "model_module_version": "1.5.0",
          "state": {
            "_dom_classes": [],
            "_model_module": "@jupyter-widgets/controls",
            "_model_module_version": "1.5.0",
            "_model_name": "HTMLModel",
            "_view_count": null,
            "_view_module": "@jupyter-widgets/controls",
            "_view_module_version": "1.5.0",
            "_view_name": "HTMLView",
            "description": "",
            "description_tooltip": null,
            "layout": "IPY_MODEL_f3a51105cf2d447987f62cba01930fb7",
            "placeholder": "​",
            "style": "IPY_MODEL_ba9298cfcb764cee972aa78a115d81f4",
            "value": " 232k/232k [00:00&lt;00:00, 11.6MB/s]"
          }
        },
        "407bf8450bff42b99bb87f6a2d61b351": {
          "model_module": "@jupyter-widgets/base",
          "model_name": "LayoutModel",
          "model_module_version": "1.2.0",
          "state": {
            "_model_module": "@jupyter-widgets/base",
            "_model_module_version": "1.2.0",
            "_model_name": "LayoutModel",
            "_view_count": null,
            "_view_module": "@jupyter-widgets/base",
            "_view_module_version": "1.2.0",
            "_view_name": "LayoutView",
            "align_content": null,
            "align_items": null,
            "align_self": null,
            "border": null,
            "bottom": null,
            "display": null,
            "flex": null,
            "flex_flow": null,
            "grid_area": null,
            "grid_auto_columns": null,
            "grid_auto_flow": null,
            "grid_auto_rows": null,
            "grid_column": null,
            "grid_gap": null,
            "grid_row": null,
            "grid_template_areas": null,
            "grid_template_columns": null,
            "grid_template_rows": null,
            "height": null,
            "justify_content": null,
            "justify_items": null,
            "left": null,
            "margin": null,
            "max_height": null,
            "max_width": null,
            "min_height": null,
            "min_width": null,
            "object_fit": null,
            "object_position": null,
            "order": null,
            "overflow": null,
            "overflow_x": null,
            "overflow_y": null,
            "padding": null,
            "right": null,
            "top": null,
            "visibility": null,
            "width": null
          }
        },
        "28ce09e0298a4bac89fbe8dad48ad1a5": {
          "model_module": "@jupyter-widgets/base",
          "model_name": "LayoutModel",
          "model_module_version": "1.2.0",
          "state": {
            "_model_module": "@jupyter-widgets/base",
            "_model_module_version": "1.2.0",
            "_model_name": "LayoutModel",
            "_view_count": null,
            "_view_module": "@jupyter-widgets/base",
            "_view_module_version": "1.2.0",
            "_view_name": "LayoutView",
            "align_content": null,
            "align_items": null,
            "align_self": null,
            "border": null,
            "bottom": null,
            "display": null,
            "flex": null,
            "flex_flow": null,
            "grid_area": null,
            "grid_auto_columns": null,
            "grid_auto_flow": null,
            "grid_auto_rows": null,
            "grid_column": null,
            "grid_gap": null,
            "grid_row": null,
            "grid_template_areas": null,
            "grid_template_columns": null,
            "grid_template_rows": null,
            "height": null,
            "justify_content": null,
            "justify_items": null,
            "left": null,
            "margin": null,
            "max_height": null,
            "max_width": null,
            "min_height": null,
            "min_width": null,
            "object_fit": null,
            "object_position": null,
            "order": null,
            "overflow": null,
            "overflow_x": null,
            "overflow_y": null,
            "padding": null,
            "right": null,
            "top": null,
            "visibility": null,
            "width": null
          }
        },
        "cdde6109b1f24c2898de0da82c93f0f9": {
          "model_module": "@jupyter-widgets/controls",
          "model_name": "DescriptionStyleModel",
          "model_module_version": "1.5.0",
          "state": {
            "_model_module": "@jupyter-widgets/controls",
            "_model_module_version": "1.5.0",
            "_model_name": "DescriptionStyleModel",
            "_view_count": null,
            "_view_module": "@jupyter-widgets/base",
            "_view_module_version": "1.2.0",
            "_view_name": "StyleView",
            "description_width": ""
          }
        },
        "be14dab0e69548e2bde17ba49f6856a5": {
          "model_module": "@jupyter-widgets/base",
          "model_name": "LayoutModel",
          "model_module_version": "1.2.0",
          "state": {
            "_model_module": "@jupyter-widgets/base",
            "_model_module_version": "1.2.0",
            "_model_name": "LayoutModel",
            "_view_count": null,
            "_view_module": "@jupyter-widgets/base",
            "_view_module_version": "1.2.0",
            "_view_name": "LayoutView",
            "align_content": null,
            "align_items": null,
            "align_self": null,
            "border": null,
            "bottom": null,
            "display": null,
            "flex": null,
            "flex_flow": null,
            "grid_area": null,
            "grid_auto_columns": null,
            "grid_auto_flow": null,
            "grid_auto_rows": null,
            "grid_column": null,
            "grid_gap": null,
            "grid_row": null,
            "grid_template_areas": null,
            "grid_template_columns": null,
            "grid_template_rows": null,
            "height": null,
            "justify_content": null,
            "justify_items": null,
            "left": null,
            "margin": null,
            "max_height": null,
            "max_width": null,
            "min_height": null,
            "min_width": null,
            "object_fit": null,
            "object_position": null,
            "order": null,
            "overflow": null,
            "overflow_x": null,
            "overflow_y": null,
            "padding": null,
            "right": null,
            "top": null,
            "visibility": null,
            "width": null
          }
        },
        "674f5c1abee94e82952b797a8f64a6cd": {
          "model_module": "@jupyter-widgets/controls",
          "model_name": "ProgressStyleModel",
          "model_module_version": "1.5.0",
          "state": {
            "_model_module": "@jupyter-widgets/controls",
            "_model_module_version": "1.5.0",
            "_model_name": "ProgressStyleModel",
            "_view_count": null,
            "_view_module": "@jupyter-widgets/base",
            "_view_module_version": "1.2.0",
            "_view_name": "StyleView",
            "bar_color": null,
            "description_width": ""
          }
        },
        "f3a51105cf2d447987f62cba01930fb7": {
          "model_module": "@jupyter-widgets/base",
          "model_name": "LayoutModel",
          "model_module_version": "1.2.0",
          "state": {
            "_model_module": "@jupyter-widgets/base",
            "_model_module_version": "1.2.0",
            "_model_name": "LayoutModel",
            "_view_count": null,
            "_view_module": "@jupyter-widgets/base",
            "_view_module_version": "1.2.0",
            "_view_name": "LayoutView",
            "align_content": null,
            "align_items": null,
            "align_self": null,
            "border": null,
            "bottom": null,
            "display": null,
            "flex": null,
            "flex_flow": null,
            "grid_area": null,
            "grid_auto_columns": null,
            "grid_auto_flow": null,
            "grid_auto_rows": null,
            "grid_column": null,
            "grid_gap": null,
            "grid_row": null,
            "grid_template_areas": null,
            "grid_template_columns": null,
            "grid_template_rows": null,
            "height": null,
            "justify_content": null,
            "justify_items": null,
            "left": null,
            "margin": null,
            "max_height": null,
            "max_width": null,
            "min_height": null,
            "min_width": null,
            "object_fit": null,
            "object_position": null,
            "order": null,
            "overflow": null,
            "overflow_x": null,
            "overflow_y": null,
            "padding": null,
            "right": null,
            "top": null,
            "visibility": null,
            "width": null
          }
        },
        "ba9298cfcb764cee972aa78a115d81f4": {
          "model_module": "@jupyter-widgets/controls",
          "model_name": "DescriptionStyleModel",
          "model_module_version": "1.5.0",
          "state": {
            "_model_module": "@jupyter-widgets/controls",
            "_model_module_version": "1.5.0",
            "_model_name": "DescriptionStyleModel",
            "_view_count": null,
            "_view_module": "@jupyter-widgets/base",
            "_view_module_version": "1.2.0",
            "_view_name": "StyleView",
            "description_width": ""
          }
        },
        "3b22c9eca7624718ba08b98726c767b5": {
          "model_module": "@jupyter-widgets/controls",
          "model_name": "HBoxModel",
          "model_module_version": "1.5.0",
          "state": {
            "_dom_classes": [],
            "_model_module": "@jupyter-widgets/controls",
            "_model_module_version": "1.5.0",
            "_model_name": "HBoxModel",
            "_view_count": null,
            "_view_module": "@jupyter-widgets/controls",
            "_view_module_version": "1.5.0",
            "_view_name": "HBoxView",
            "box_style": "",
            "children": [
              "IPY_MODEL_57a80c1a4fbb45ad89630fc96befa47b",
              "IPY_MODEL_7efd9a9ddc7b4fedbcd7a08240c48e90",
              "IPY_MODEL_b3b2e7f0bc90410887f99c6e1fcd533e"
            ],
            "layout": "IPY_MODEL_019fb661a0c14ed08b89d84eda927a2c"
          }
        },
        "57a80c1a4fbb45ad89630fc96befa47b": {
          "model_module": "@jupyter-widgets/controls",
          "model_name": "HTMLModel",
          "model_module_version": "1.5.0",
          "state": {
            "_dom_classes": [],
            "_model_module": "@jupyter-widgets/controls",
            "_model_module_version": "1.5.0",
            "_model_name": "HTMLModel",
            "_view_count": null,
            "_view_module": "@jupyter-widgets/controls",
            "_view_module_version": "1.5.0",
            "_view_name": "HTMLView",
            "description": "",
            "description_tooltip": null,
            "layout": "IPY_MODEL_4b52ecbd7133420a94aafee2245e3138",
            "placeholder": "​",
            "style": "IPY_MODEL_d37ef4a2d44348f9b5b7114616f65f1d",
            "value": "tokenizer.json: 100%"
          }
        },
        "7efd9a9ddc7b4fedbcd7a08240c48e90": {
          "model_module": "@jupyter-widgets/controls",
          "model_name": "FloatProgressModel",
          "model_module_version": "1.5.0",
          "state": {
            "_dom_classes": [],
            "_model_module": "@jupyter-widgets/controls",
            "_model_module_version": "1.5.0",
            "_model_name": "FloatProgressModel",
            "_view_count": null,
            "_view_module": "@jupyter-widgets/controls",
            "_view_module_version": "1.5.0",
            "_view_name": "ProgressView",
            "bar_style": "success",
            "description": "",
            "description_tooltip": null,
            "layout": "IPY_MODEL_8b0afda028c24eadaa331d0ada081c53",
            "max": 466062,
            "min": 0,
            "orientation": "horizontal",
            "style": "IPY_MODEL_049c6ce3d3384850a5927c293e8f146c",
            "value": 466062
          }
        },
        "b3b2e7f0bc90410887f99c6e1fcd533e": {
          "model_module": "@jupyter-widgets/controls",
          "model_name": "HTMLModel",
          "model_module_version": "1.5.0",
          "state": {
            "_dom_classes": [],
            "_model_module": "@jupyter-widgets/controls",
            "_model_module_version": "1.5.0",
            "_model_name": "HTMLModel",
            "_view_count": null,
            "_view_module": "@jupyter-widgets/controls",
            "_view_module_version": "1.5.0",
            "_view_name": "HTMLView",
            "description": "",
            "description_tooltip": null,
            "layout": "IPY_MODEL_90d33207ac9449908846ebb7866313c7",
            "placeholder": "​",
            "style": "IPY_MODEL_341dae26d112424dbd58a365aebe8f46",
            "value": " 466k/466k [00:00&lt;00:00, 2.11MB/s]"
          }
        },
        "019fb661a0c14ed08b89d84eda927a2c": {
          "model_module": "@jupyter-widgets/base",
          "model_name": "LayoutModel",
          "model_module_version": "1.2.0",
          "state": {
            "_model_module": "@jupyter-widgets/base",
            "_model_module_version": "1.2.0",
            "_model_name": "LayoutModel",
            "_view_count": null,
            "_view_module": "@jupyter-widgets/base",
            "_view_module_version": "1.2.0",
            "_view_name": "LayoutView",
            "align_content": null,
            "align_items": null,
            "align_self": null,
            "border": null,
            "bottom": null,
            "display": null,
            "flex": null,
            "flex_flow": null,
            "grid_area": null,
            "grid_auto_columns": null,
            "grid_auto_flow": null,
            "grid_auto_rows": null,
            "grid_column": null,
            "grid_gap": null,
            "grid_row": null,
            "grid_template_areas": null,
            "grid_template_columns": null,
            "grid_template_rows": null,
            "height": null,
            "justify_content": null,
            "justify_items": null,
            "left": null,
            "margin": null,
            "max_height": null,
            "max_width": null,
            "min_height": null,
            "min_width": null,
            "object_fit": null,
            "object_position": null,
            "order": null,
            "overflow": null,
            "overflow_x": null,
            "overflow_y": null,
            "padding": null,
            "right": null,
            "top": null,
            "visibility": null,
            "width": null
          }
        },
        "4b52ecbd7133420a94aafee2245e3138": {
          "model_module": "@jupyter-widgets/base",
          "model_name": "LayoutModel",
          "model_module_version": "1.2.0",
          "state": {
            "_model_module": "@jupyter-widgets/base",
            "_model_module_version": "1.2.0",
            "_model_name": "LayoutModel",
            "_view_count": null,
            "_view_module": "@jupyter-widgets/base",
            "_view_module_version": "1.2.0",
            "_view_name": "LayoutView",
            "align_content": null,
            "align_items": null,
            "align_self": null,
            "border": null,
            "bottom": null,
            "display": null,
            "flex": null,
            "flex_flow": null,
            "grid_area": null,
            "grid_auto_columns": null,
            "grid_auto_flow": null,
            "grid_auto_rows": null,
            "grid_column": null,
            "grid_gap": null,
            "grid_row": null,
            "grid_template_areas": null,
            "grid_template_columns": null,
            "grid_template_rows": null,
            "height": null,
            "justify_content": null,
            "justify_items": null,
            "left": null,
            "margin": null,
            "max_height": null,
            "max_width": null,
            "min_height": null,
            "min_width": null,
            "object_fit": null,
            "object_position": null,
            "order": null,
            "overflow": null,
            "overflow_x": null,
            "overflow_y": null,
            "padding": null,
            "right": null,
            "top": null,
            "visibility": null,
            "width": null
          }
        },
        "d37ef4a2d44348f9b5b7114616f65f1d": {
          "model_module": "@jupyter-widgets/controls",
          "model_name": "DescriptionStyleModel",
          "model_module_version": "1.5.0",
          "state": {
            "_model_module": "@jupyter-widgets/controls",
            "_model_module_version": "1.5.0",
            "_model_name": "DescriptionStyleModel",
            "_view_count": null,
            "_view_module": "@jupyter-widgets/base",
            "_view_module_version": "1.2.0",
            "_view_name": "StyleView",
            "description_width": ""
          }
        },
        "8b0afda028c24eadaa331d0ada081c53": {
          "model_module": "@jupyter-widgets/base",
          "model_name": "LayoutModel",
          "model_module_version": "1.2.0",
          "state": {
            "_model_module": "@jupyter-widgets/base",
            "_model_module_version": "1.2.0",
            "_model_name": "LayoutModel",
            "_view_count": null,
            "_view_module": "@jupyter-widgets/base",
            "_view_module_version": "1.2.0",
            "_view_name": "LayoutView",
            "align_content": null,
            "align_items": null,
            "align_self": null,
            "border": null,
            "bottom": null,
            "display": null,
            "flex": null,
            "flex_flow": null,
            "grid_area": null,
            "grid_auto_columns": null,
            "grid_auto_flow": null,
            "grid_auto_rows": null,
            "grid_column": null,
            "grid_gap": null,
            "grid_row": null,
            "grid_template_areas": null,
            "grid_template_columns": null,
            "grid_template_rows": null,
            "height": null,
            "justify_content": null,
            "justify_items": null,
            "left": null,
            "margin": null,
            "max_height": null,
            "max_width": null,
            "min_height": null,
            "min_width": null,
            "object_fit": null,
            "object_position": null,
            "order": null,
            "overflow": null,
            "overflow_x": null,
            "overflow_y": null,
            "padding": null,
            "right": null,
            "top": null,
            "visibility": null,
            "width": null
          }
        },
        "049c6ce3d3384850a5927c293e8f146c": {
          "model_module": "@jupyter-widgets/controls",
          "model_name": "ProgressStyleModel",
          "model_module_version": "1.5.0",
          "state": {
            "_model_module": "@jupyter-widgets/controls",
            "_model_module_version": "1.5.0",
            "_model_name": "ProgressStyleModel",
            "_view_count": null,
            "_view_module": "@jupyter-widgets/base",
            "_view_module_version": "1.2.0",
            "_view_name": "StyleView",
            "bar_color": null,
            "description_width": ""
          }
        },
        "90d33207ac9449908846ebb7866313c7": {
          "model_module": "@jupyter-widgets/base",
          "model_name": "LayoutModel",
          "model_module_version": "1.2.0",
          "state": {
            "_model_module": "@jupyter-widgets/base",
            "_model_module_version": "1.2.0",
            "_model_name": "LayoutModel",
            "_view_count": null,
            "_view_module": "@jupyter-widgets/base",
            "_view_module_version": "1.2.0",
            "_view_name": "LayoutView",
            "align_content": null,
            "align_items": null,
            "align_self": null,
            "border": null,
            "bottom": null,
            "display": null,
            "flex": null,
            "flex_flow": null,
            "grid_area": null,
            "grid_auto_columns": null,
            "grid_auto_flow": null,
            "grid_auto_rows": null,
            "grid_column": null,
            "grid_gap": null,
            "grid_row": null,
            "grid_template_areas": null,
            "grid_template_columns": null,
            "grid_template_rows": null,
            "height": null,
            "justify_content": null,
            "justify_items": null,
            "left": null,
            "margin": null,
            "max_height": null,
            "max_width": null,
            "min_height": null,
            "min_width": null,
            "object_fit": null,
            "object_position": null,
            "order": null,
            "overflow": null,
            "overflow_x": null,
            "overflow_y": null,
            "padding": null,
            "right": null,
            "top": null,
            "visibility": null,
            "width": null
          }
        },
        "341dae26d112424dbd58a365aebe8f46": {
          "model_module": "@jupyter-widgets/controls",
          "model_name": "DescriptionStyleModel",
          "model_module_version": "1.5.0",
          "state": {
            "_model_module": "@jupyter-widgets/controls",
            "_model_module_version": "1.5.0",
            "_model_name": "DescriptionStyleModel",
            "_view_count": null,
            "_view_module": "@jupyter-widgets/base",
            "_view_module_version": "1.2.0",
            "_view_name": "StyleView",
            "description_width": ""
          }
        },
        "73e9b31de25841b4913e3606d54c5ac4": {
          "model_module": "@jupyter-widgets/controls",
          "model_name": "HBoxModel",
          "model_module_version": "1.5.0",
          "state": {
            "_dom_classes": [],
            "_model_module": "@jupyter-widgets/controls",
            "_model_module_version": "1.5.0",
            "_model_name": "HBoxModel",
            "_view_count": null,
            "_view_module": "@jupyter-widgets/controls",
            "_view_module_version": "1.5.0",
            "_view_name": "HBoxView",
            "box_style": "",
            "children": [
              "IPY_MODEL_04af942dad2d429c9a7b6e42338f9632",
              "IPY_MODEL_1e3439239300433a81c463afab3d6d16",
              "IPY_MODEL_13899f632a834c2bb62cd652979ed27f"
            ],
            "layout": "IPY_MODEL_97dfedb3d37d4c62a6f6683970e397b4"
          }
        },
        "04af942dad2d429c9a7b6e42338f9632": {
          "model_module": "@jupyter-widgets/controls",
          "model_name": "HTMLModel",
          "model_module_version": "1.5.0",
          "state": {
            "_dom_classes": [],
            "_model_module": "@jupyter-widgets/controls",
            "_model_module_version": "1.5.0",
            "_model_name": "HTMLModel",
            "_view_count": null,
            "_view_module": "@jupyter-widgets/controls",
            "_view_module_version": "1.5.0",
            "_view_name": "HTMLView",
            "description": "",
            "description_tooltip": null,
            "layout": "IPY_MODEL_e750b809ed8945f680584881f9dca39a",
            "placeholder": "​",
            "style": "IPY_MODEL_f386cc435f9f4c2b86073f33cd88db88",
            "value": "config.json: 100%"
          }
        },
        "1e3439239300433a81c463afab3d6d16": {
          "model_module": "@jupyter-widgets/controls",
          "model_name": "FloatProgressModel",
          "model_module_version": "1.5.0",
          "state": {
            "_dom_classes": [],
            "_model_module": "@jupyter-widgets/controls",
            "_model_module_version": "1.5.0",
            "_model_name": "FloatProgressModel",
            "_view_count": null,
            "_view_module": "@jupyter-widgets/controls",
            "_view_module_version": "1.5.0",
            "_view_name": "ProgressView",
            "bar_style": "success",
            "description": "",
            "description_tooltip": null,
            "layout": "IPY_MODEL_e14b4cc244eb468cb307a5d9eac59c23",
            "max": 570,
            "min": 0,
            "orientation": "horizontal",
            "style": "IPY_MODEL_22a63cb5d07043ab9a85ca8e3e4be63c",
            "value": 570
          }
        },
        "13899f632a834c2bb62cd652979ed27f": {
          "model_module": "@jupyter-widgets/controls",
          "model_name": "HTMLModel",
          "model_module_version": "1.5.0",
          "state": {
            "_dom_classes": [],
            "_model_module": "@jupyter-widgets/controls",
            "_model_module_version": "1.5.0",
            "_model_name": "HTMLModel",
            "_view_count": null,
            "_view_module": "@jupyter-widgets/controls",
            "_view_module_version": "1.5.0",
            "_view_name": "HTMLView",
            "description": "",
            "description_tooltip": null,
            "layout": "IPY_MODEL_ca62566d5b0a4927928a68a0b74c9412",
            "placeholder": "​",
            "style": "IPY_MODEL_452758b7aedc4138af0d423fea187cde",
            "value": " 570/570 [00:00&lt;00:00, 59.4kB/s]"
          }
        },
        "97dfedb3d37d4c62a6f6683970e397b4": {
          "model_module": "@jupyter-widgets/base",
          "model_name": "LayoutModel",
          "model_module_version": "1.2.0",
          "state": {
            "_model_module": "@jupyter-widgets/base",
            "_model_module_version": "1.2.0",
            "_model_name": "LayoutModel",
            "_view_count": null,
            "_view_module": "@jupyter-widgets/base",
            "_view_module_version": "1.2.0",
            "_view_name": "LayoutView",
            "align_content": null,
            "align_items": null,
            "align_self": null,
            "border": null,
            "bottom": null,
            "display": null,
            "flex": null,
            "flex_flow": null,
            "grid_area": null,
            "grid_auto_columns": null,
            "grid_auto_flow": null,
            "grid_auto_rows": null,
            "grid_column": null,
            "grid_gap": null,
            "grid_row": null,
            "grid_template_areas": null,
            "grid_template_columns": null,
            "grid_template_rows": null,
            "height": null,
            "justify_content": null,
            "justify_items": null,
            "left": null,
            "margin": null,
            "max_height": null,
            "max_width": null,
            "min_height": null,
            "min_width": null,
            "object_fit": null,
            "object_position": null,
            "order": null,
            "overflow": null,
            "overflow_x": null,
            "overflow_y": null,
            "padding": null,
            "right": null,
            "top": null,
            "visibility": null,
            "width": null
          }
        },
        "e750b809ed8945f680584881f9dca39a": {
          "model_module": "@jupyter-widgets/base",
          "model_name": "LayoutModel",
          "model_module_version": "1.2.0",
          "state": {
            "_model_module": "@jupyter-widgets/base",
            "_model_module_version": "1.2.0",
            "_model_name": "LayoutModel",
            "_view_count": null,
            "_view_module": "@jupyter-widgets/base",
            "_view_module_version": "1.2.0",
            "_view_name": "LayoutView",
            "align_content": null,
            "align_items": null,
            "align_self": null,
            "border": null,
            "bottom": null,
            "display": null,
            "flex": null,
            "flex_flow": null,
            "grid_area": null,
            "grid_auto_columns": null,
            "grid_auto_flow": null,
            "grid_auto_rows": null,
            "grid_column": null,
            "grid_gap": null,
            "grid_row": null,
            "grid_template_areas": null,
            "grid_template_columns": null,
            "grid_template_rows": null,
            "height": null,
            "justify_content": null,
            "justify_items": null,
            "left": null,
            "margin": null,
            "max_height": null,
            "max_width": null,
            "min_height": null,
            "min_width": null,
            "object_fit": null,
            "object_position": null,
            "order": null,
            "overflow": null,
            "overflow_x": null,
            "overflow_y": null,
            "padding": null,
            "right": null,
            "top": null,
            "visibility": null,
            "width": null
          }
        },
        "f386cc435f9f4c2b86073f33cd88db88": {
          "model_module": "@jupyter-widgets/controls",
          "model_name": "DescriptionStyleModel",
          "model_module_version": "1.5.0",
          "state": {
            "_model_module": "@jupyter-widgets/controls",
            "_model_module_version": "1.5.0",
            "_model_name": "DescriptionStyleModel",
            "_view_count": null,
            "_view_module": "@jupyter-widgets/base",
            "_view_module_version": "1.2.0",
            "_view_name": "StyleView",
            "description_width": ""
          }
        },
        "e14b4cc244eb468cb307a5d9eac59c23": {
          "model_module": "@jupyter-widgets/base",
          "model_name": "LayoutModel",
          "model_module_version": "1.2.0",
          "state": {
            "_model_module": "@jupyter-widgets/base",
            "_model_module_version": "1.2.0",
            "_model_name": "LayoutModel",
            "_view_count": null,
            "_view_module": "@jupyter-widgets/base",
            "_view_module_version": "1.2.0",
            "_view_name": "LayoutView",
            "align_content": null,
            "align_items": null,
            "align_self": null,
            "border": null,
            "bottom": null,
            "display": null,
            "flex": null,
            "flex_flow": null,
            "grid_area": null,
            "grid_auto_columns": null,
            "grid_auto_flow": null,
            "grid_auto_rows": null,
            "grid_column": null,
            "grid_gap": null,
            "grid_row": null,
            "grid_template_areas": null,
            "grid_template_columns": null,
            "grid_template_rows": null,
            "height": null,
            "justify_content": null,
            "justify_items": null,
            "left": null,
            "margin": null,
            "max_height": null,
            "max_width": null,
            "min_height": null,
            "min_width": null,
            "object_fit": null,
            "object_position": null,
            "order": null,
            "overflow": null,
            "overflow_x": null,
            "overflow_y": null,
            "padding": null,
            "right": null,
            "top": null,
            "visibility": null,
            "width": null
          }
        },
        "22a63cb5d07043ab9a85ca8e3e4be63c": {
          "model_module": "@jupyter-widgets/controls",
          "model_name": "ProgressStyleModel",
          "model_module_version": "1.5.0",
          "state": {
            "_model_module": "@jupyter-widgets/controls",
            "_model_module_version": "1.5.0",
            "_model_name": "ProgressStyleModel",
            "_view_count": null,
            "_view_module": "@jupyter-widgets/base",
            "_view_module_version": "1.2.0",
            "_view_name": "StyleView",
            "bar_color": null,
            "description_width": ""
          }
        },
        "ca62566d5b0a4927928a68a0b74c9412": {
          "model_module": "@jupyter-widgets/base",
          "model_name": "LayoutModel",
          "model_module_version": "1.2.0",
          "state": {
            "_model_module": "@jupyter-widgets/base",
            "_model_module_version": "1.2.0",
            "_model_name": "LayoutModel",
            "_view_count": null,
            "_view_module": "@jupyter-widgets/base",
            "_view_module_version": "1.2.0",
            "_view_name": "LayoutView",
            "align_content": null,
            "align_items": null,
            "align_self": null,
            "border": null,
            "bottom": null,
            "display": null,
            "flex": null,
            "flex_flow": null,
            "grid_area": null,
            "grid_auto_columns": null,
            "grid_auto_flow": null,
            "grid_auto_rows": null,
            "grid_column": null,
            "grid_gap": null,
            "grid_row": null,
            "grid_template_areas": null,
            "grid_template_columns": null,
            "grid_template_rows": null,
            "height": null,
            "justify_content": null,
            "justify_items": null,
            "left": null,
            "margin": null,
            "max_height": null,
            "max_width": null,
            "min_height": null,
            "min_width": null,
            "object_fit": null,
            "object_position": null,
            "order": null,
            "overflow": null,
            "overflow_x": null,
            "overflow_y": null,
            "padding": null,
            "right": null,
            "top": null,
            "visibility": null,
            "width": null
          }
        },
        "452758b7aedc4138af0d423fea187cde": {
          "model_module": "@jupyter-widgets/controls",
          "model_name": "DescriptionStyleModel",
          "model_module_version": "1.5.0",
          "state": {
            "_model_module": "@jupyter-widgets/controls",
            "_model_module_version": "1.5.0",
            "_model_name": "DescriptionStyleModel",
            "_view_count": null,
            "_view_module": "@jupyter-widgets/base",
            "_view_module_version": "1.2.0",
            "_view_name": "StyleView",
            "description_width": ""
          }
        }
      }
    }
  },
  "cells": [
    {
      "cell_type": "markdown",
      "metadata": {
        "id": "view-in-github",
        "colab_type": "text"
      },
      "source": [
        "<a href=\"https://colab.research.google.com/github/MatheusPagaime17/Analise-de-Sentimento-Reviews-Steam/blob/main/AnaliseSentimentoSteam.ipynb\" target=\"_parent\"><img src=\"https://colab.research.google.com/assets/colab-badge.svg\" alt=\"Open In Colab\"/></a>"
      ]
    },
    {
      "cell_type": "code",
      "execution_count": 4,
      "metadata": {
        "colab": {
          "base_uri": "https://localhost:8080/"
        },
        "id": "Q6epIvDNufnH",
        "outputId": "55284a2b-e2b7-4ee2-c6a7-8ffa63c99e8c"
      },
      "outputs": [
        {
          "output_type": "stream",
          "name": "stdout",
          "text": [
            "Bibliotecas Python instaladas com sucesso!\n",
            "\n",
            "Baixando recursos necessários do NLTK...\n",
            "Downloads do NLTK concluídos.\n",
            "\n",
            "GPU está disponível! Usando a GPU: Tesla T4\n"
          ]
        }
      ],
      "source": [
        "# 1. Instalação das bibliotecas Python\n",
        "# Força a atualização das versões para evitar erros de compatibilidade\n",
        "!pip install --upgrade transformers accelerate -q\n",
        "# Instala a biblioteca para aumento de dados\n",
        "!pip install nlpaug -q\n",
        "print(\"Bibliotecas Python instaladas com sucesso!\")\n",
        "\n",
        "# 2. Download dos recursos da biblioteca NLTK\n",
        "import nltk\n",
        "print(\"\\nBaixando recursos necessários do NLTK...\")\n",
        "# 'wordnet' e 'punkt' são para o nlpaug funcionar\n",
        "nltk.download('wordnet', quiet=True)\n",
        "nltk.download('punkt', quiet=True)\n",
        "nltk.download('averaged_perceptron_tagger', quiet=True)\n",
        "nltk.download('averaged_perceptron_tagger_eng', quiet=True)\n",
        "print(\"Downloads do NLTK concluídos.\")\n",
        "\n",
        "# 3. Importações globais e verificação da GPU\n",
        "import torch\n",
        "import pandas as pd\n",
        "import matplotlib.pyplot as plt\n",
        "import seaborn as sns\n",
        "from sklearn.model_selection import train_test_split\n",
        "\n",
        "# Verifica se a GPU está disponível e define o dispositivo de execução\n",
        "if torch.cuda.is_available():\n",
        "    device = torch.device(\"cuda\")\n",
        "    print('\\nGPU está disponível! Usando a GPU:', torch.cuda.get_device_name(0))\n",
        "else:\n",
        "    device = torch.device(\"cpu\")\n",
        "    print('\\nGPU não disponível, usando CPU.')"
      ]
    },
    {
      "cell_type": "code",
      "source": [
        "import re\n",
        "import string\n",
        "\n",
        "# Carregar o dataset novamente para garantir que estamos começando do ponto original\n",
        "try:\n",
        "    url = 'https://raw.githubusercontent.com/MatheusPagaime17/Analise-de-Sentimento-Reviews-Steam/main/elden_ring_steam_reviews.csv'\n",
        "    df = pd.read_csv(url)\n",
        "    print(\"Arquivo CSV carregado com sucesso!\")\n",
        "except FileNotFoundError:\n",
        "    print(\"Erro: O arquivo 'elden_ring_steam_reviews.csv' não foi encontrado.\")\n",
        "    df = pd.DataFrame()\n",
        "\n",
        "if not df.empty:\n",
        "    # --- 1. Selecionar colunas relevantes e remover nulos ---\n",
        "    df_clean = df[['review', 'voted_up']].copy()\n",
        "\n",
        "    # Contagem antes de remover nulos\n",
        "    print(f\"Número de reviews antes de qualquer limpeza: {len(df_clean)}\")\n",
        "\n",
        "    # Remover linhas onde a review é nula\n",
        "    df_clean.dropna(subset=['review'], inplace=True)\n",
        "    print(f\"Número de reviews após remover nulas: {len(df_clean)}\")\n",
        "\n",
        "    # --- 2. Função de limpeza de texto ---\n",
        "    def clean_text(text):\n",
        "        # Converter para minúsculas\n",
        "        text = text.lower()\n",
        "        # Remover URLs\n",
        "        text = re.sub(r'https?://\\S+|www\\.\\S+', '', text)\n",
        "        # Remover pontuação\n",
        "        text = text.translate(str.maketrans('', '', string.punctuation))\n",
        "        # Remover números\n",
        "        text = re.sub(r'\\d+', '', text)\n",
        "        # Remover quebras de linha e espaços extras\n",
        "        text = \" \".join(text.split())\n",
        "        return text\n",
        "\n",
        "    # --- 3. Função para verificar a proporção de caracteres não-alfabéticos ---\n",
        "    def get_non_alpha_ratio(text):\n",
        "        if not text:\n",
        "            return 0\n",
        "        # Conta caracteres que NÃO são letras ou espaços\n",
        "        non_alpha_count = len([char for char in text if not char.isalpha() and not char.isspace()])\n",
        "        return non_alpha_count / len(text)\n",
        "\n",
        "    # Aplicar a limpeza de texto básica primeiro\n",
        "    df_clean['review_cleaned'] = df_clean['review'].apply(clean_text)\n",
        "\n",
        "    # Calcular a proporção de ruído ANTES da limpeza de texto final\n",
        "    df_clean['noise_ratio'] = df_clean['review'].apply(get_non_alpha_ratio)\n",
        "\n",
        "    # --- 4. Filtrar reviews com base na proporção de ruído e reviews vazias ---\n",
        "    # Manter apenas reviews com menos de 50% de ruído\n",
        "    noise_threshold = 0.5\n",
        "    df_filtered = df_clean[df_clean['noise_ratio'] < noise_threshold].copy()\n",
        "\n",
        "    # Remover reviews que se tornaram vazias após a limpeza\n",
        "    df_filtered = df_filtered[df_filtered['review_cleaned'] != ''].copy()\n",
        "\n",
        "    print(f\"Número de reviews após filtrar ruído excessivo (emojis/símbolos) e vazias: {len(df_filtered)}\")\n",
        "\n",
        "    # --- 5. Visualização \"Depois da Limpeza\" ---\n",
        "    print(\"\\n--- Distribuição das Reviews (Depois da Limpeza) ---\")\n",
        "    print(df_filtered['voted_up'].value_counts())\n",
        "\n",
        "    plt.figure(figsize=(8, 6))\n",
        "    sns.countplot(x='voted_up', data=df_filtered, palette=['#3498db', '#e74c3c'])\n",
        "    plt.title('Distribuição de Reviews Após a Limpeza', fontsize=16)\n",
        "    plt.ylabel('Quantidade de Reviews', fontsize=12)\n",
        "    plt.xlabel('Tipo de Review (False = Negativa, True = Positiva)', fontsize=12)\n",
        "    plt.xticks([0, 1], ['Negativas (False)', 'Positivas (True)'])\n",
        "\n",
        "    # Salvar o novo gráfico\n",
        "    plt.savefig('distribuicao_apos_limpeza.png')\n",
        "    print(\"\\nGráfico 'distribuicao_apos_limpeza.png' salvo com sucesso.\")\n",
        "\n",
        "    # Salvar o dataframe limpo para a próxima etapa\n",
        "    df_filtered[['review_cleaned', 'voted_up']].to_csv('reviews_limpas.csv', index=False)\n",
        "    print(\"Dataset limpo salvo em 'reviews_limpas.csv'.\")"
      ],
      "metadata": {
        "colab": {
          "base_uri": "https://localhost:8080/",
          "height": 904
        },
        "id": "atrJ6sT1wsl4",
        "outputId": "b408e600-4611-4d64-e54f-58507b7308f4"
      },
      "execution_count": 5,
      "outputs": [
        {
          "output_type": "stream",
          "name": "stdout",
          "text": [
            "Arquivo CSV carregado com sucesso!\n",
            "Número de reviews antes de qualquer limpeza: 9794\n",
            "Número de reviews após remover nulas: 9765\n",
            "Número de reviews após filtrar ruído excessivo (emojis/símbolos) e vazias: 9514\n",
            "\n",
            "--- Distribuição das Reviews (Depois da Limpeza) ---\n",
            "voted_up\n",
            "True     8935\n",
            "False     579\n",
            "Name: count, dtype: int64\n",
            "\n",
            "Gráfico 'distribuicao_apos_limpeza.png' salvo com sucesso.\n",
            "Dataset limpo salvo em 'reviews_limpas.csv'.\n"
          ]
        },
        {
          "output_type": "stream",
          "name": "stderr",
          "text": [
            "/tmp/ipython-input-42167546.py:67: FutureWarning: \n",
            "\n",
            "Passing `palette` without assigning `hue` is deprecated and will be removed in v0.14.0. Assign the `x` variable to `hue` and set `legend=False` for the same effect.\n",
            "\n",
            "  sns.countplot(x='voted_up', data=df_filtered, palette=['#3498db', '#e74c3c'])\n"
          ]
        },
        {
          "output_type": "display_data",
          "data": {
            "text/plain": [
              "<Figure size 800x600 with 1 Axes>"
            ],
            "image/png": "[encoded data removed]"
          },
          "metadata": {}
        }
      ]
    },
    {
      "cell_type": "code",
      "source": [
        "import nlpaug.augmenter.word as naw\n",
        "\n",
        "# Carregar o dataset limpo\n",
        "try:\n",
        "    df = pd.read_csv('reviews_limpas.csv')\n",
        "    df.dropna(subset=['review_cleaned'], inplace=True)\n",
        "    print(\"\\nDataset limpo ('reviews_limpas.csv') carregado com sucesso.\")\n",
        "except FileNotFoundError:\n",
        "    print(\"\\nERRO: 'reviews_limpas.csv' não foi encontrado. Execute a célula anterior primeiro.\")\n",
        "    df = pd.DataFrame()\n",
        "\n",
        "if not df.empty:\n",
        "    # Separar as classes\n",
        "    df_majority = df[df['voted_up'] == True]\n",
        "    df_minority = df[df['voted_up'] == False]\n",
        "\n",
        "    # Configurar o aumentador de dados\n",
        "    aug = naw.SynonymAug(aug_src='wordnet', tokenizer=None, model_path=None, lang='eng', name='Synonym_Aug', stopwords=None, verbose=0)\n",
        "\n",
        "\n",
        "    # Lógica de geração de dados sintéticos\n",
        "    num_to_generate = len(df_majority) - len(df_minority)\n",
        "    print(f\"\\nGerando {num_to_generate} novas reviews negativas sintéticas...\")\n",
        "\n",
        "    minority_texts = df_minority['review_cleaned'].tolist()\n",
        "    augmented_texts = []\n",
        "\n",
        "    while len(augmented_texts) < num_to_generate:\n",
        "        remaining = num_to_generate - len(augmented_texts)\n",
        "        batch_size = min(remaining, len(minority_texts))\n",
        "        newly_augmented = aug.augment(minority_texts[:batch_size])\n",
        "        augmented_texts.extend(newly_augmented)\n",
        "        print(f\"  Geradas {len(augmented_texts)} de {num_to_generate}...\")\n",
        "\n",
        "    print(\"Geração concluída!\")\n",
        "\n",
        "    # Criar DataFrame com as reviews aumentadas e combinar com o original\n",
        "    df_augmented = pd.DataFrame({'review_cleaned': augmented_texts, 'voted_up': False})\n",
        "    df_balanced = pd.concat([df_majority, df_minority, df_augmented], ignore_index=True)\n",
        "\n",
        "    print(\"\\n--- Distribuição Final das Classes Após Aumento de Dados ---\")\n",
        "    print(df_balanced.voted_up.value_counts())\n",
        "\n",
        "\n",
        "    # Preparar dados para o modelo (divisão treino/validação)\n",
        "    df_balanced['label'] = df_balanced['voted_up'].apply(lambda x: 1 if x else 0)\n",
        "    train_texts, val_texts, train_labels, val_labels = train_test_split(\n",
        "        df_balanced['review_cleaned'].tolist(),\n",
        "        df_balanced['label'].tolist(),\n",
        "        test_size=0.2,\n",
        "        random_state=42,\n",
        "        stratify=df_balanced['label']\n",
        "    )\n",
        "    print(f\"\\nDados prontos para o treinamento: {len(train_texts)} amostras de treino, {len(val_texts)} amostras de validação.\")"
      ],
      "metadata": {
        "colab": {
          "base_uri": "https://localhost:8080/"
        },
        "id": "yga3Rw7sy_Ce",
        "outputId": "c04fc3c6-a59b-47f3-c2af-cba1bbe198bf"
      },
      "execution_count": 8,
      "outputs": [
        {
          "output_type": "stream",
          "name": "stdout",
          "text": [
            "\n",
            "Dataset limpo ('reviews_limpas.csv') carregado com sucesso.\n",
            "\n",
            "Gerando 8356 novas reviews negativas sintéticas...\n",
            "  Geradas 579 de 8356...\n",
            "  Geradas 1158 de 8356...\n",
            "  Geradas 1737 de 8356...\n",
            "  Geradas 2316 de 8356...\n",
            "  Geradas 2895 de 8356...\n",
            "  Geradas 3474 de 8356...\n",
            "  Geradas 4053 de 8356...\n",
            "  Geradas 4632 de 8356...\n",
            "  Geradas 5211 de 8356...\n",
            "  Geradas 5790 de 8356...\n",
            "  Geradas 6369 de 8356...\n",
            "  Geradas 6948 de 8356...\n",
            "  Geradas 7527 de 8356...\n",
            "  Geradas 8106 de 8356...\n",
            "  Geradas 8356 de 8356...\n",
            "Geração concluída!\n",
            "\n",
            "--- Distribuição Final das Classes Após Aumento de Dados ---\n",
            "voted_up\n",
            "True     8935\n",
            "False    8935\n",
            "Name: count, dtype: int64\n",
            "\n",
            "Dados prontos para o treinamento: 14296 amostras de treino, 3574 amostras de validação.\n"
          ]
        }
      ]
    },
    {
      "cell_type": "code",
      "source": [
        "from transformers import BertTokenizer\n",
        "\n",
        "print(\"Carregando o tokenizador do BERT...\")\n",
        "tokenizer = BertTokenizer.from_pretrained('bert-base-uncased')\n",
        "\n",
        "train_encodings = tokenizer(train_texts, truncation=True, padding=True, max_length=128)\n",
        "val_encodings = tokenizer(val_texts, truncation=True, padding=True, max_length=128)\n",
        "\n",
        "class SteamReviewDataset(torch.utils.data.Dataset):\n",
        "    def __init__(self, encodings, labels):\n",
        "        self.encodings = encodings\n",
        "        self.labels = labels\n",
        "\n",
        "    def __getitem__(self, idx):\n",
        "        item = {key: torch.tensor(val[idx]) for key, val in self.encodings.items()}\n",
        "        item['labels'] = torch.tensor(self.labels[idx])\n",
        "        return item\n",
        "\n",
        "    def __len__(self):\n",
        "        return len(self.labels)\n",
        "\n",
        "train_dataset = SteamReviewDataset(train_encodings, train_labels)\n",
        "val_dataset = SteamReviewDataset(val_encodings, val_labels)\n",
        "\n",
        "print(\"Tokenização completa. Datasets de treino e validação criados.\")"
      ],
      "metadata": {
        "id": "b6_iR82U1k7q",
        "colab": {
          "base_uri": "https://localhost:8080/",
          "height": 304,
          "referenced_widgets": [
            "5b3ad51b4885479ebae2f378be7adc59",
            "eeb8ada3dd984effa747dc78b1bb7040",
            "a039b3110c0f46db95996e1dc30c0b7d",
            "9726b007b7d34eabbb0b776a4c13d841",
            "73b47fab908f4d249d5d9215c00a9663",
            "6c2660d42c0d41b39c50a03aae7fa798",
            "47e67141e71f46498e2202c9dace5053",
            "b7a579c806074a088798303f37999174",
            "0513c64442ca4d9cabec45775917d586",
            "619fd452a4714832985816ebc4a4d6ed",
            "1eb3a9a1044f455abcdf3dd1fed4b6e3",
            "57e458278fa049f1aebd10f509b32687",
            "d0f2888082c942919bc9b99548558232",
            "b8e9ee3ffdeb47d8acb32423588f58fc",
            "6542b913f75149718de35da82657574f",
            "407bf8450bff42b99bb87f6a2d61b351",
            "28ce09e0298a4bac89fbe8dad48ad1a5",
            "cdde6109b1f24c2898de0da82c93f0f9",
            "be14dab0e69548e2bde17ba49f6856a5",
            "674f5c1abee94e82952b797a8f64a6cd",
            "f3a51105cf2d447987f62cba01930fb7",
            "ba9298cfcb764cee972aa78a115d81f4",
            "3b22c9eca7624718ba08b98726c767b5",
            "57a80c1a4fbb45ad89630fc96befa47b",
            "7efd9a9ddc7b4fedbcd7a08240c48e90",
            "b3b2e7f0bc90410887f99c6e1fcd533e",
            "019fb661a0c14ed08b89d84eda927a2c",
            "4b52ecbd7133420a94aafee2245e3138",
            "d37ef4a2d44348f9b5b7114616f65f1d",
            "8b0afda028c24eadaa331d0ada081c53",
            "049c6ce3d3384850a5927c293e8f146c",
            "90d33207ac9449908846ebb7866313c7",
            "341dae26d112424dbd58a365aebe8f46",
            "73e9b31de25841b4913e3606d54c5ac4",
            "04af942dad2d429c9a7b6e42338f9632",
            "1e3439239300433a81c463afab3d6d16",
            "13899f632a834c2bb62cd652979ed27f",
            "97dfedb3d37d4c62a6f6683970e397b4",
            "e750b809ed8945f680584881f9dca39a",
            "f386cc435f9f4c2b86073f33cd88db88",
            "e14b4cc244eb468cb307a5d9eac59c23",
            "22a63cb5d07043ab9a85ca8e3e4be63c",
            "ca62566d5b0a4927928a68a0b74c9412",
            "452758b7aedc4138af0d423fea187cde"
          ]
        },
        "outputId": "d2402060-05ce-4bed-a2d8-e8242d429a38"
      },
      "execution_count": 9,
      "outputs": [
        {
          "output_type": "stream",
          "name": "stdout",
          "text": [
            "Carregando o tokenizador do BERT...\n"
          ]
        },
        {
          "output_type": "stream",
          "name": "stderr",
          "text": [
            "/usr/local/lib/python3.11/dist-packages/huggingface_hub/utils/_auth.py:94: UserWarning: \n",
            "The secret `HF_TOKEN` does not exist in your Colab secrets.\n",
            "To authenticate with the Hugging Face Hub, create a token in your settings tab (https://huggingface.co/settings/tokens), set it as secret in your Google Colab and restart your session.\n",
            "You will be able to reuse this secret in all of your notebooks.\n",
            "Please note that authentication is recommended but still optional to access public models or datasets.\n",
            "  warnings.warn(\n"
          ]
        },
        {
          "output_type": "display_data",
          "data": {
            "text/plain": [
              "tokenizer_config.json:   0%|          | 0.00/48.0 [00:00<?, ?B/s]"
            ],
            "application/vnd.jupyter.widget-view+json": {
              "version_major": 2,
              "version_minor": 0,
              "model_id": "5b3ad51b4885479ebae2f378be7adc59"
            }
          },
          "metadata": {}
        },
        {
          "output_type": "display_data",
          "data": {
            "text/plain": [
              "vocab.txt:   0%|          | 0.00/232k [00:00<?, ?B/s]"
            ],
            "application/vnd.jupyter.widget-view+json": {
              "version_major": 2,
              "version_minor": 0,
              "model_id": "57e458278fa049f1aebd10f509b32687"
            }
          },
          "metadata": {}
        },
        {
          "output_type": "display_data",
          "data": {
            "text/plain": [
              "tokenizer.json:   0%|          | 0.00/466k [00:00<?, ?B/s]"
            ],
            "application/vnd.jupyter.widget-view+json": {
              "version_major": 2,
              "version_minor": 0,
              "model_id": "3b22c9eca7624718ba08b98726c767b5"
            }
          },
          "metadata": {}
        },
        {
          "output_type": "display_data",
          "data": {
            "text/plain": [
              "config.json:   0%|          | 0.00/570 [00:00<?, ?B/s]"
            ],
            "application/vnd.jupyter.widget-view+json": {
              "version_major": 2,
              "version_minor": 0,
              "model_id": "73e9b31de25841b4913e3606d54c5ac4"
            }
          },
          "metadata": {}
        },
        {
          "output_type": "stream",
          "name": "stdout",
          "text": [
            "Tokenização completa. Datasets de treino e validação criados.\n"
          ]
        }
      ]
    },
    {
      "cell_type": "code",
      "source": [
        "from transformers import BertForSequenceClassification, Trainer, TrainingArguments\n",
        "\n",
        "# Carrega o modelo BERT pré-treinado\n",
        "model = BertForSequenceClassification.from_pretrained('bert-base-uncased', num_labels=2)\n",
        "model.to(device) # Mover modelo para a GPU\n",
        "\n",
        "# Define os argumentos do treinamento\n",
        "training_args = TrainingArguments(\n",
        "    output_dir='./results',\n",
        "    num_train_epochs=1,\n",
        "    per_device_train_batch_size=16,\n",
        "    per_device_eval_batch_size=64,\n",
        "    warmup_steps=500,\n",
        "    weight_decay=0.01,\n",
        "    logging_dir='./logs',\n",
        "    logging_steps=100,\n",
        "    eval_strategy=\"epoch\" # Corrected argument name\n",
        ")\n",
        "\n",
        "# Cria o objeto Trainer\n",
        "trainer = Trainer(\n",
        "    model=model,\n",
        "    args=training_args,\n",
        "    train_dataset=train_dataset,\n",
        "    eval_dataset=val_dataset\n",
        ")\n",
        "\n",
        "print(\"\\nIniciando o treinamento do modelo...\")\n",
        "trainer.train()\n",
        "print(\"Treinamento concluído!\")"
      ],
      "metadata": {
        "id": "8TDQP7141sGk",
        "colab": {
          "base_uri": "https://localhost:8080/",
          "height": 456
        },
        "outputId": "e529baf4-dec1-4d74-8aaf-3622127e6680"
      },
      "execution_count": 11,
      "outputs": [
        {
          "output_type": "stream",
          "name": "stderr",
          "text": [
            "Some weights of BertForSequenceClassification were not initialized from the model checkpoint at bert-base-uncased and are newly initialized: ['classifier.bias', 'classifier.weight']\n",
            "You should probably TRAIN this model on a down-stream task to be able to use it for predictions and inference.\n"
          ]
        },
        {
          "output_type": "stream",
          "name": "stdout",
          "text": [
            "\n",
            "Iniciando o treinamento do modelo...\n"
          ]
        },
        {
          "output_type": "display_data",
          "data": {
            "text/plain": [
              "<IPython.core.display.Javascript object>"
            ],
            "application/javascript": [
              "\n",
              "        window._wandbApiKey = new Promise((resolve, reject) => {\n",
              "            function loadScript(url) {\n",
              "            return new Promise(function(resolve, reject) {\n",
              "                let newScript = document.createElement(\"script\");\n",
              "                newScript.onerror = reject;\n",
              "                newScript.onload = resolve;\n",
              "                document.body.appendChild(newScript);\n",
              "                newScript.src = url;\n",
              "            });\n",
              "            }\n",
              "            loadScript(\"https://cdn.jsdelivr.net/npm/postmate/build/postmate.min.js\").then(() => {\n",
              "            const iframe = document.createElement('iframe')\n",
              "            iframe.style.cssText = \"width:0;height:0;border:none\"\n",
              "            document.body.appendChild(iframe)\n",
              "            const handshake = new Postmate({\n",
              "                container: iframe,\n",
              "                url: 'https://wandb.ai/authorize'\n",
              "            });\n",
              "            const timeout = setTimeout(() => reject(\"Couldn't auto authenticate\"), 5000)\n",
              "            handshake.then(function(child) {\n",
              "                child.on('authorize', data => {\n",
              "                    clearTimeout(timeout)\n",
              "                    resolve(data)\n",
              "                });\n",
              "            });\n",
              "            })\n",
              "        });\n",
              "    "
            ]
          },
          "metadata": {}
        },
        {
          "output_type": "stream",
          "name": "stderr",
          "text": [
            "\u001b[34m\u001b[1mwandb\u001b[0m: Logging into wandb.ai. (Learn how to deploy a W&B server locally: https://wandb.me/wandb-server)\n",
            "\u001b[34m\u001b[1mwandb\u001b[0m: You can find your API key in your browser here: https://wandb.ai/authorize?ref=models\n",
            "wandb: Paste an API key from your profile and hit enter:"
          ]
        },
        {
          "name": "stdout",
          "output_type": "stream",
          "text": [
            " ··········\n"
          ]
        },
        {
          "output_type": "stream",
          "name": "stderr",
          "text": [
            "\u001b[34m\u001b[1mwandb\u001b[0m: \u001b[33mWARNING\u001b[0m If you're specifying your api key in code, ensure this code is not shared publicly.\n",
            "\u001b[34m\u001b[1mwandb\u001b[0m: \u001b[33mWARNING\u001b[0m Consider setting the WANDB_API_KEY environment variable, or running `wandb login` from the command line.\n",
            "\u001b[34m\u001b[1mwandb\u001b[0m: No netrc file found, creating one.\n",
            "\u001b[34m\u001b[1mwandb\u001b[0m: Appending key for api.wandb.ai to your netrc file: /root/.netrc\n",
            "\u001b[34m\u001b[1mwandb\u001b[0m: Currently logged in as: \u001b[33mpagaime10\u001b[0m (\u001b[33mpagaime10-universidade-s-o-judas-tadeu\u001b[0m) to \u001b[32mhttps://api.wandb.ai\u001b[0m. Use \u001b[1m`wandb login --relogin`\u001b[0m to force relogin\n"
          ]
        },
        {
          "output_type": "display_data",
          "data": {
            "text/plain": [
              "<IPython.core.display.HTML object>"
            ],
            "text/html": []
          },
          "metadata": {}
        },
        {
          "output_type": "display_data",
          "data": {
            "text/plain": [
              "<IPython.core.display.HTML object>"
            ],
            "text/html": [
              "Tracking run with wandb version 0.21.0"
            ]
          },
          "metadata": {}
        },
        {
          "output_type": "display_data",
          "data": {
            "text/plain": [
              "<IPython.core.display.HTML object>"
            ],
            "text/html": [
              "Run data is saved locally in <code>/content/wandb/run-20250812_170217-p3xu429p</code>"
            ]
          },
          "metadata": {}
        },
        {
          "output_type": "display_data",
          "data": {
            "text/plain": [
              "<IPython.core.display.HTML object>"
            ],
            "text/html": [
              "Syncing run <strong><a href='https://wandb.ai/pagaime10-universidade-s-o-judas-tadeu/huggingface/runs/p3xu429p' target=\"_blank\">olive-haze-1</a></strong> to <a href='https://wandb.ai/pagaime10-universidade-s-o-judas-tadeu/huggingface' target=\"_blank\">Weights & Biases</a> (<a href='https://wandb.me/developer-guide' target=\"_blank\">docs</a>)<br>"
            ]
          },
          "metadata": {}
        },
        {
          "output_type": "display_data",
          "data": {
            "text/plain": [
              "<IPython.core.display.HTML object>"
            ],
            "text/html": [
              " View project at <a href='https://wandb.ai/pagaime10-universidade-s-o-judas-tadeu/huggingface' target=\"_blank\">https://wandb.ai/pagaime10-universidade-s-o-judas-tadeu/huggingface</a>"
            ]
          },
          "metadata": {}
        },
        {
          "output_type": "display_data",
          "data": {
            "text/plain": [
              "<IPython.core.display.HTML object>"
            ],
            "text/html": [
              " View run at <a href='https://wandb.ai/pagaime10-universidade-s-o-judas-tadeu/huggingface/runs/p3xu429p' target=\"_blank\">https://wandb.ai/pagaime10-universidade-s-o-judas-tadeu/huggingface/runs/p3xu429p</a>"
            ]
          },
          "metadata": {}
        },
        {
          "output_type": "display_data",
          "data": {
            "text/plain": [
              "<IPython.core.display.HTML object>"
            ],
            "text/html": [
              "\n",
              "    <div>\n",
              "      \n",
              "      <progress value='894' max='894' style='width:300px; height:20px; vertical-align: middle;'></progress>\n",
              "      [894/894 06:21, Epoch 1/1]\n",
              "    </div>\n",
              "    <table border=\"1\" class=\"dataframe\">\n",
              "  <thead>\n",
              " <tr style=\"text-align: left;\">\n",
              "      <th>Epoch</th>\n",
              "      <th>Training Loss</th>\n",
              "      <th>Validation Loss</th>\n",
              "    </tr>\n",
              "  </thead>\n",
              "  <tbody>\n",
              "    <tr>\n",
              "      <td>1</td>\n",
              "      <td>0.147100</td>\n",
              "      <td>0.126568</td>\n",
              "    </tr>\n",
              "  </tbody>\n",
              "</table><p>"
            ]
          },
          "metadata": {}
        },
        {
          "output_type": "stream",
          "name": "stdout",
          "text": [
            "Treinamento concluído!\n"
          ]
        }
      ]
    },
    {
      "cell_type": "code",
      "source": [
        "import numpy as np\n",
        "from sklearn.metrics import classification_report, confusion_matrix\n",
        "\n",
        "print(\"\\nAvaliando o modelo no conjunto de validação...\")\n",
        "predictions = trainer.predict(val_dataset)\n",
        "y_pred = np.argmax(predictions.predictions, axis=-1)\n",
        "\n",
        "print(\"\\n--- Relatório de Classificação ---\")\n",
        "print(classification_report(val_labels, y_pred, target_names=['Negativa', 'Positiva']))\n",
        "\n",
        "print(\"\\n--- Matriz de Confusão ---\")\n",
        "cm = confusion_matrix(val_labels, y_pred)\n",
        "plt.figure(figsize=(8, 6))\n",
        "sns.heatmap(cm, annot=True, fmt='d', cmap='Blues',\n",
        "            xticklabels=['Negativa', 'Positiva'],\n",
        "            yticklabels=['Negativa', 'Positiva'])\n",
        "plt.xlabel('Previsão do Modelo')\n",
        "plt.ylabel('Rótulo Verdadeiro')\n",
        "plt.title('Matriz de Confusão')\n",
        "plt.show()"
      ],
      "metadata": {
        "id": "hXt3SrAC1t4k",
        "colab": {
          "base_uri": "https://localhost:8080/",
          "height": 824
        },
        "outputId": "95209489-d39a-4510-80d9-83bf744d8cc4"
      },
      "execution_count": 12,
      "outputs": [
        {
          "output_type": "stream",
          "name": "stdout",
          "text": [
            "\n",
            "Avaliando o modelo no conjunto de validação...\n"
          ]
        },
        {
          "output_type": "display_data",
          "data": {
            "text/plain": [
              "<IPython.core.display.HTML object>"
            ],
            "text/html": []
          },
          "metadata": {}
        },
        {
          "output_type": "stream",
          "name": "stdout",
          "text": [
            "\n",
            "--- Relatório de Classificação ---\n",
            "              precision    recall  f1-score   support\n",
            "\n",
            "    Negativa       0.96      0.97      0.96      1787\n",
            "    Positiva       0.97      0.96      0.96      1787\n",
            "\n",
            "    accuracy                           0.96      3574\n",
            "   macro avg       0.96      0.96      0.96      3574\n",
            "weighted avg       0.96      0.96      0.96      3574\n",
            "\n",
            "\n",
            "--- Matriz de Confusão ---\n"
          ]
        },
        {
          "output_type": "display_data",
          "data": {
            "text/plain": [
              "<Figure size 800x600 with 2 Axes>"
            ],
            "image/png": "[encoded data removed]"
          },
          "metadata": {}
        }
      ]
    },
    {
      "cell_type": "code",
      "source": [
        "# Mapeamento dos rótulos\n",
        "labels = ['Negativa', 'Positiva']\n",
        "\n",
        "# Colocar o modelo em modo de avaliação\n",
        "model.eval()\n",
        "model.to(device)\n",
        "\n",
        "def prever_sentimento(texto):\n",
        "    \"\"\"Função para prever o sentimento de um texto usando o modelo treinado.\"\"\"\n",
        "    # Tokenizar o texto\n",
        "    inputs = tokenizer(texto, return_tensors=\"pt\", truncation=True, padding=True, max_length=128)\n",
        "    # Mover os dados para o mesmo dispositivo do modelo (GPU/CPU)\n",
        "    inputs = {key: val.to(device) for key, val in inputs.items()}\n",
        "\n",
        "    # Desativa o cálculo de gradientes para acelerar a predição\n",
        "    with torch.no_grad():\n",
        "        outputs = model(**inputs)\n",
        "\n",
        "    prediction_index = torch.argmax(outputs.logits, dim=1).item()\n",
        "    return labels[prediction_index]\n",
        "\n",
        "# --- Teste a função com suas próprias frases! ---\n",
        "print(\"\\n--- Testando o modelo com frases personalizadas ---\")\n",
        "\n",
        "review_teste_1 = \"One of the best experiences of my life! this game change your perception about video-games.\"\n",
        "previsao_1 = prever_sentimento(review_teste_1)\n",
        "print(f\"\\nTexto: '{review_teste_1}'\")\n",
        "print(f\"Previsão do Modelo: {previsao_1}\")\n",
        "\n",
        "review_teste_2 = \"Overrated! IMO the level design is mid, the game doesn't give u any advice about how you can procede or lvl up.\"\n",
        "previsao_2 = prever_sentimento(review_teste_2)\n",
        "print(f\"\\nTexto: '{review_teste_2}'\")\n",
        "print(f\"Previsão do Modelo: {previsao_2}\")"
      ],
      "metadata": {
        "id": "dg67SbC11xUq",
        "colab": {
          "base_uri": "https://localhost:8080/"
        },
        "outputId": "858abae4-3518-4baa-ea2f-53b65689926b"
      },
      "execution_count": 21,
      "outputs": [
        {
          "output_type": "stream",
          "name": "stdout",
          "text": [
            "\n",
            "--- Testando o modelo com frases personalizadas ---\n",
            "\n",
            "Texto: 'One of the best experiences of my life! this game change your perception about video-games.'\n",
            "Previsão do Modelo: Positiva\n",
            "\n",
            "Texto: 'Overrated! IMO the level design is mid, the game doesn't give u any advice about how you can procede or lvl up.'\n",
            "Previsão do Modelo: Negativa\n"
          ]
        }
      ]
    }
  ]
}